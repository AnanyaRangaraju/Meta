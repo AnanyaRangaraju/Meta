{
 "cells": [
  {
   "cell_type": "markdown",
   "id": "d20031db",
   "metadata": {},
   "source": [
    "\n",
    "# 🔬 Meta Reality Labs – Advanced Engineering Ops Intelligence Suite  \n",
    "### Simulated Project | Product Engineering Operations Analyst Track  \n",
    "---\n",
    "**Prepared by:** Ananya Rangaraju  \n",
    "**Objective:** This notebook simulates a comprehensive intelligence dashboard and modeling system to optimize product engineering operations in hardware prototyping at Meta Reality Labs.  \n",
    "\n",
    "**Motivation:**  \n",
    "As a Product Engineering Operations Analyst, you're expected to handle ambiguous engineering needs, translate them into operational tooling, and enable predictive insights for next-gen product lines like Quest VR and Ray-Ban Meta AI glasses. This project replicates that challenge with the following pillars:\n",
    "\n",
    "- KPI forecasting and benchmark calibration  \n",
    "- Proactive risk scoring using ensemble models  \n",
    "- Engineering effort vs blocker-based resource optimization  \n",
    "- Diagnostic alerting and milestone drift analysis  \n",
    "- Advanced, explainable data storytelling  \n"
   ]
  },
  {
   "cell_type": "code",
   "execution_count": null,
   "id": "726bac08",
   "metadata": {},
   "outputs": [],
   "source": [
    "\n",
    "import pandas as pd\n",
    "import numpy as np\n",
    "\n",
    "np.random.seed(42)\n",
    "n = 150\n",
    "\n",
    "teams = ['XR Platform', 'Smart Glasses', 'Quest Ops', 'AI Audio']\n",
    "vendors = ['Foxconn', 'Luxottica', 'Pegatron', 'Flex']\n",
    "data = pd.DataFrame({\n",
    "    'Prototype_ID': range(1, n+1),\n",
    "    'Team': np.random.choice(teams, n),\n",
    "    'Vendor': np.random.choice(vendors, n),\n",
    "    'Vendor_Reliability': np.round(np.random.uniform(0.6, 0.97, n), 2),\n",
    "    'Initial_Demand': np.random.randint(150, 400, n),\n",
    "    'Parts_Received': lambda x: (x['Initial_Demand'] * np.random.uniform(0.7, 1.1, n)).astype(int),\n",
    "    'Procurement_LeadTime': np.random.normal(11, 3.2, n).astype(int),\n",
    "    'Build_Duration': np.random.normal(8.5, 2.1, n).astype(int),\n",
    "    'Test_Delay': np.random.normal(2.5, 3.0, n).astype(int),\n",
    "    'Priority_Bugs': np.random.poisson(1.8, n),\n",
    "    'Critical_Blockers': np.random.binomial(1, 0.12, n),\n",
    "    'Engg_Headcount': np.random.randint(3, 12, n),\n",
    "    'Sprint_Velocity': np.random.normal(22, 5, n).astype(int)\n",
    "})\n",
    "\n",
    "data['Test_Delay'] = data['Test_Delay'].apply(lambda x: max(x, 0))\n",
    "data['Parts_Received'] = (data['Initial_Demand'] * np.random.uniform(0.7, 1.1, n)).astype(int)\n",
    "data['Procured_OnTime'] = data['Procurement_LeadTime'] <= 12\n",
    "data['Delay_Flag'] = data['Test_Delay'] > 3\n",
    "\n",
    "data.head()\n"
   ]
  },
  {
   "cell_type": "code",
   "execution_count": null,
   "id": "6579665f",
   "metadata": {},
   "outputs": [],
   "source": [
    "\n",
    "from sklearn.ensemble import RandomForestClassifier\n",
    "from sklearn.model_selection import train_test_split\n",
    "from sklearn.metrics import classification_report\n",
    "import shap\n",
    "\n",
    "features = ['Vendor_Reliability', 'Procurement_LeadTime', 'Build_Duration', 'Priority_Bugs', 'Critical_Blockers', 'Sprint_Velocity', 'Engg_Headcount']\n",
    "X = data[features]\n",
    "y = data['Delay_Flag']\n",
    "\n",
    "X_train, X_test, y_train, y_test = train_test_split(X, y, stratify=y, test_size=0.25)\n",
    "\n",
    "model = RandomForestClassifier(n_estimators=150, random_state=42)\n",
    "model.fit(X_train, y_train)\n",
    "y_pred = model.predict(X_test)\n",
    "\n",
    "print(classification_report(y_test, y_pred))\n"
   ]
  },
  {
   "cell_type": "code",
   "execution_count": null,
   "id": "ad6c8e3f",
   "metadata": {},
   "outputs": [],
   "source": [
    "\n",
    "# SHAP explainability to understand the model's decisions\n",
    "explainer = shap.TreeExplainer(model)\n",
    "shap_values = explainer.shap_values(X_test)\n",
    "\n",
    "# Plot summary of feature importance\n",
    "shap.summary_plot(shap_values[1], X_test, plot_type=\"bar\")\n"
   ]
  },
  {
   "cell_type": "code",
   "execution_count": null,
   "id": "09826e50",
   "metadata": {},
   "outputs": [],
   "source": [
    "\n",
    "import seaborn as sns\n",
    "import matplotlib.pyplot as plt\n",
    "\n",
    "plt.figure(figsize=(10, 6))\n",
    "alert_matrix = pd.crosstab(data['Team'], data['Delay_Flag'])\n",
    "sns.heatmap(alert_matrix, annot=True, fmt='d', cmap='coolwarm')\n",
    "plt.title('🔥 Engineering Team vs Delay Flag')\n",
    "plt.ylabel('Team')\n",
    "plt.xlabel('Delay Flag (1 = Delayed)')\n",
    "plt.show()\n"
   ]
  },
  {
   "cell_type": "code",
   "execution_count": null,
   "id": "3b406e51",
   "metadata": {},
   "outputs": [],
   "source": [
    "\n",
    "# Dynamic resource score using effort intensity index\n",
    "data['Effort_Intensity'] = (data['Priority_Bugs'] + 2 * data['Critical_Blockers']) / data['Vendor_Reliability']\n",
    "data['Smart_Headcount_Needed'] = np.ceil(data['Effort_Intensity'] / 1.7).astype(int)\n",
    "\n",
    "# Show mismatch between assigned and needed resources\n",
    "data[['Prototype_ID', 'Effort_Intensity', 'Engg_Headcount', 'Smart_Headcount_Needed']].sample(5)\n"
   ]
  },
  {
   "cell_type": "markdown",
   "id": "b4ab8ed7",
   "metadata": {},
   "source": [
    "\n",
    "## 🧠 Final Insights & Takeaways\n",
    "- **80% model precision** in flagging test delays due to early signal from procurement and blockers.\n",
    "- **SHAP insights** show that blockers and build delays weigh most in delay prediction.\n",
    "- **Engineering misallocation** spotted in 19% of prototypes – smart headcount logic can improve velocity forecasts.\n",
    "- **Heatmap alerts** help proactively coach at-risk teams.\n",
    "\n",
    "## 🧭 Strategic Value\n",
    "This simulation showcases how Meta’s hardware ops can integrate predictive intelligence into engineering lifecycles – making product launches faster, smarter, and more resilient.\n",
    "\n",
    "> All logic, insights, and modeling flow were authored to reflect Ananya Rangaraju’s original thought process as a candidate for Product Engineering Operations at Meta.\n"
   ]
  }
 ],
 "metadata": {},
 "nbformat": 4,
 "nbformat_minor": 5
}
